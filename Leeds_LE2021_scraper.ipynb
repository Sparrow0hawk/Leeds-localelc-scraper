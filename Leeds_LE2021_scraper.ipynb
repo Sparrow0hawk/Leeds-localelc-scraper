{
 "cells": [
  {
   "cell_type": "markdown",
   "metadata": {},
   "source": [
    "# Text scrape Leeds City Council Election results into csv \n",
    "\n",
    "Data will be published on Leeds data mill but if you need it sooner than two weeks you can use the following code!"
   ]
  },
  {
   "cell_type": "code",
   "execution_count": 1,
   "metadata": {},
   "outputs": [],
   "source": [
    "# import library for querying website\n",
    "import pandas as pd\n",
    "import os\n",
    "import urllib\n",
    "import requests\n",
    "import html5lib\n",
    "from bs4 import BeautifulSoup\n",
    "from io import StringIO\n",
    "from selenium import webdriver"
   ]
  },
  {
   "cell_type": "code",
   "execution_count": 2,
   "metadata": {},
   "outputs": [],
   "source": [
    "# get list of links for scrapping\n",
    "\n",
    "main_page = 'https://www.leeds.gov.uk/your-council/elections/leeds-city-council-election-results'"
   ]
  },
  {
   "cell_type": "code",
   "execution_count": 3,
   "metadata": {},
   "outputs": [],
   "source": [
    "# set up selenium to use chrome in headless state\n",
    "from selenium import webdriver\n",
    "from selenium.webdriver.chrome.options import Options\n",
    "\n",
    "options = Options()\n",
    "options.headless = True\n",
    "wd = webdriver.Chrome('/Users/alexcoleman/Downloads/chromedriver', options=options)\n",
    "\n",
    "wd.get(main_page)\n",
    "\n",
    "html_page = wd.page_source"
   ]
  },
  {
   "cell_type": "code",
   "execution_count": 4,
   "metadata": {
    "scrolled": true
   },
   "outputs": [],
   "source": [
    "# opens page from selenium in beautiful soup\n",
    "import re \n",
    "\n",
    "soup = BeautifulSoup(html_page, 'lxml')\n",
    "\n",
    "# finds specific section of page with links to each ward\n",
    "link_list = soup.find(id='ctl00_ctl46_g_5037fcd1_1720_4395_8f61_756022543ee2')\n",
    "\n",
    "final_list_links = []\n",
    "\n",
    "# get all the links from specific section and append to list\n",
    "for link in link_list.find_all('a'):\n",
    "    final_list_links.append(link.get('href'))"
   ]
  },
  {
   "cell_type": "code",
   "execution_count": 5,
   "metadata": {},
   "outputs": [],
   "source": [
    "# format whitespace in links\n",
    "final_list_links = [lnk.replace(' ','%20') for lnk in final_list_links]"
   ]
  },
  {
   "cell_type": "code",
   "execution_count": 6,
   "metadata": {},
   "outputs": [
    {
     "name": "stdout",
     "output_type": "stream",
     "text": [
      "https://www.leeds.gov.uk/your-council/elections/leeds-city-council-election-results?ward=Adel%20and%20Wharfedale\n",
      "https://www.leeds.gov.uk/your-council/elections/leeds-city-council-election-results?ward=Alwoodley\n",
      "https://www.leeds.gov.uk/your-council/elections/leeds-city-council-election-results?ward=Ardsley%20and%20Robin%20Hood\n",
      "https://www.leeds.gov.uk/your-council/elections/leeds-city-council-election-results?ward=Armley\n",
      "https://www.leeds.gov.uk/your-council/elections/leeds-city-council-election-results?ward=Beeston%20and%20Holbeck\n",
      "https://www.leeds.gov.uk/your-council/elections/leeds-city-council-election-results?ward=Bramley%20and%20Stanningley\n",
      "https://www.leeds.gov.uk/your-council/elections/leeds-city-council-election-results?ward=Burmantofts%20and%20Richmond%20Hill\n",
      "https://www.leeds.gov.uk/your-council/elections/leeds-city-council-election-results?ward=Calverley%20and%20Farsley\n",
      "https://www.leeds.gov.uk/your-council/elections/leeds-city-council-election-results?ward=Chapel%20Allerton\n",
      "https://www.leeds.gov.uk/your-council/elections/leeds-city-council-election-results?ward=Cross%20Gates%20and%20Whinmoor\n",
      "https://www.leeds.gov.uk/your-council/elections/leeds-city-council-election-results?ward=Farnley%20and%20Wortley\n",
      "https://www.leeds.gov.uk/your-council/elections/leeds-city-council-election-results?ward=Garforth%20and%20Swillington\n",
      "https://www.leeds.gov.uk/your-council/elections/leeds-city-council-election-results?ward=Gipton%20and%20Harehills\n",
      "https://www.leeds.gov.uk/your-council/elections/leeds-city-council-election-results?ward=Guiseley%20and%20Rawdon\n",
      "https://www.leeds.gov.uk/your-council/elections/leeds-city-council-election-results?ward=Harewood\n",
      "https://www.leeds.gov.uk/your-council/elections/leeds-city-council-election-results?ward=Headingley%20and%20Hyde%20Park\n",
      "https://www.leeds.gov.uk/your-council/elections/leeds-city-council-election-results?ward=Horsforth\n",
      "https://www.leeds.gov.uk/your-council/elections/leeds-city-council-election-results?ward=Hunslet%20and%20Riverside\n",
      "https://www.leeds.gov.uk/your-council/elections/leeds-city-council-election-results?ward=Killingbeck%20and%20Seacroft\n",
      "https://www.leeds.gov.uk/your-council/elections/leeds-city-council-election-results?ward=Kippax%20and%20Methley\n",
      "https://www.leeds.gov.uk/your-council/elections/leeds-city-council-election-results?ward=Kirkstall\n",
      "https://www.leeds.gov.uk/your-council/elections/leeds-city-council-election-results?ward=Little%20London%20and%20Woodhouse\n",
      "https://www.leeds.gov.uk/your-council/elections/leeds-city-council-election-results?ward=Middleton%20Park\n",
      "https://www.leeds.gov.uk/your-council/elections/leeds-city-council-election-results?ward=Moortown\n",
      "https://www.leeds.gov.uk/your-council/elections/leeds-city-council-election-results?ward=Morley%20North\n",
      "https://www.leeds.gov.uk/your-council/elections/leeds-city-council-election-results?ward=Morley%20South\n",
      "https://www.leeds.gov.uk/your-council/elections/leeds-city-council-election-results?ward=Otley%20and%20Yeadon\n",
      "https://www.leeds.gov.uk/your-council/elections/leeds-city-council-election-results?ward=Pudsey\n",
      "https://www.leeds.gov.uk/your-council/elections/leeds-city-council-election-results?ward=Rothwell\n",
      "https://www.leeds.gov.uk/your-council/elections/leeds-city-council-election-results?ward=Roundhay\n",
      "https://www.leeds.gov.uk/your-council/elections/leeds-city-council-election-results?ward=Temple%20Newsam\n",
      "https://www.leeds.gov.uk/your-council/elections/leeds-city-council-election-results?ward=Weetwood\n",
      "https://www.leeds.gov.uk/your-council/elections/leeds-city-council-election-results?ward=Wetherby\n"
     ]
    }
   ],
   "source": [
    "# check formatting is correct\n",
    "for link in final_list_links:\n",
    "    print(link)"
   ]
  },
  {
   "cell_type": "code",
   "execution_count": 7,
   "metadata": {},
   "outputs": [],
   "source": [
    "# example extracting election results from a page\n",
    "    \n",
    "df_y = []\n",
    "\n",
    "for link in final_list_links:\n",
    "    \n",
    "    # open webpage and get beautiful soup via selenium\n",
    "    \n",
    "    wd.get(link)\n",
    "\n",
    "    html_page = wd.page_source\n",
    "    \n",
    "    # get page into bs\n",
    "    soup = BeautifulSoup(html_page, 'lxml')\n",
    "\n",
    "    # extract data table\n",
    "    \n",
    "    df = pd.read_html(html_page,header=0)[1]\n",
    "    \n",
    "    df['Share'] = round(((df['Votes'] / df['Votes'].sum())*100),1)\n",
    "    \n",
    "    # extract top row data on ward, turnout and electorate size\n",
    "    top_row = soup.find(id=\"WebPartctl00_ctl46_g_5037fcd1_1720_4395_8f61_756022543ee2\")\n",
    "    \n",
    "    top_row = top_row.text.strip()\n",
    "    top_row = top_row[46:125]\n",
    "    top_row = top_row.split(\" \")\n",
    "    \n",
    "    # get turnout\n",
    "    for i in top_row:\n",
    "        if i == \"%\":\n",
    "            break\n",
    "        else:\n",
    "            z = ''\n",
    "            z += i\n",
    "        \n",
    "        df[\"Turnout\"] = z\n",
    "        j = \"\"\n",
    "        # get total ward\n",
    "        \n",
    "    for i in top_row:\n",
    "        if i == \"Electorate\":\n",
    "            break\n",
    "        else:\n",
    "            j += \" \"+i\n",
    "            df['Ward'] = j\n",
    "\n",
    "        # get total electorate\n",
    "    for i in top_row:\n",
    "        if i == \"Turnout\":  \n",
    "            break\n",
    "        else:\n",
    "            b = \"\"\n",
    "            b += i\n",
    "    df['Electorate'] = b\n",
    "                \n",
    "    # append dataframe to list of dataframes\n",
    "    df_y.append(df)\n",
    "    \n",
    "df_y = pd.concat(df_y,axis=0, ignore_index=True)"
   ]
  },
  {
   "cell_type": "code",
   "execution_count": 8,
   "metadata": {},
   "outputs": [],
   "source": [
    "df_y.to_csv(\"./Leeds_LE2019_results.csv\")"
   ]
  },
  {
   "cell_type": "code",
   "execution_count": null,
   "metadata": {},
   "outputs": [],
   "source": []
  }
 ],
 "metadata": {
  "anaconda-cloud": {},
  "kernelspec": {
   "display_name": "Python [conda env:base3.6]",
   "language": "python",
   "name": "conda-env-base3.6-py"
  },
  "language_info": {
   "codemirror_mode": {
    "name": "ipython",
    "version": 3
   },
   "file_extension": ".py",
   "mimetype": "text/x-python",
   "name": "python",
   "nbconvert_exporter": "python",
   "pygments_lexer": "ipython3",
   "version": "3.6.8"
  }
 },
 "nbformat": 4,
 "nbformat_minor": 2
}
