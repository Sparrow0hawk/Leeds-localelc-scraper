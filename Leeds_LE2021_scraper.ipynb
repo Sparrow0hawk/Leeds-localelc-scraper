{
 "cells": [
  {
   "cell_type": "markdown",
   "metadata": {},
   "source": [
    "# Text scrape Leeds City Council Election results into csv \n",
    "\n",
    "Data will be published on Leeds data mill but if you need it sooner than two weeks you can use the following code!"
   ]
  },
  {
   "cell_type": "code",
   "execution_count": 1,
   "metadata": {},
   "outputs": [],
   "source": [
    "# import library for querying website\n",
    "import pandas as pd\n",
    "import os\n",
    "import urllib\n",
    "import requests\n",
    "import html5lib\n",
    "from bs4 import BeautifulSoup\n",
    "from io import StringIO\n",
    "from selenium import webdriver"
   ]
  },
  {
   "cell_type": "code",
   "execution_count": 2,
   "metadata": {},
   "outputs": [],
   "source": [
    "# get list of links for scrapping\n",
    "\n",
    "main_page = 'https://www.leeds.gov.uk/your-council/elections/leeds-city-council-election-results'"
   ]
  },
  {
   "cell_type": "code",
   "execution_count": 3,
   "metadata": {},
   "outputs": [],
   "source": [
    "# set up selenium to use chrome in headless state\n",
    "from selenium import webdriver\n",
    "from selenium.webdriver.chrome.options import Options\n",
    "\n",
    "options = Options()\n",
    "options.headless = True\n",
    "wd = webdriver.Chrome('tools/chromedriver', options=options)\n",
    "\n",
    "wd.get(main_page)\n",
    "\n",
    "html_page = wd.page_source"
   ]
  },
  {
   "cell_type": "code",
   "execution_count": 14,
   "metadata": {
    "scrolled": true
   },
   "outputs": [],
   "source": [
    "# opens page from selenium in beautiful soup\n",
    "import re \n",
    "\n",
    "soup = BeautifulSoup(html_page, 'html.parser')\n",
    "\n",
    "# finds specific section of page with links to each ward\n",
    "accordion_layer = soup.find(id='acc_921')"
   ]
  },
  {
   "cell_type": "code",
   "execution_count": 16,
   "metadata": {
    "scrolled": true,
    "tags": []
   },
   "outputs": [
    {
     "data": {
      "text/plain": [
       "[<button aria-controls=\"acc_921_panel_1\" aria-expanded=\"false\" class=\"accordion__trigger\" data-current=\"false\" id=\"acc_921_panel_1_trigger\" type=\"button\">  Adel &amp; Wharfedale   </button>,\n",
       " <button aria-controls=\"acc_921_panel_2\" aria-expanded=\"false\" class=\"accordion__trigger\" data-current=\"false\" id=\"acc_921_panel_2_trigger\" type=\"button\">Alwoodley</button>,\n",
       " <button aria-controls=\"acc_921_panel_3\" aria-expanded=\"false\" class=\"accordion__trigger\" data-current=\"false\" id=\"acc_921_panel_3_trigger\" type=\"button\">  Ardsley &amp; Robin Hood   </button>,\n",
       " <button aria-controls=\"acc_921_panel_4\" aria-expanded=\"false\" class=\"accordion__trigger\" data-current=\"false\" id=\"acc_921_panel_4_trigger\" type=\"button\">  Armley   </button>,\n",
       " <button aria-controls=\"acc_921_panel_5\" aria-expanded=\"false\" class=\"accordion__trigger\" data-current=\"false\" id=\"acc_921_panel_5_trigger\" type=\"button\">  Beeston &amp; Holbeck   </button>,\n",
       " <button aria-controls=\"acc_921_panel_6\" aria-expanded=\"false\" class=\"accordion__trigger\" data-current=\"false\" id=\"acc_921_panel_6_trigger\" type=\"button\">  Bramley &amp; Stanningley  </button>,\n",
       " <button aria-controls=\"acc_921_panel_7\" aria-expanded=\"false\" class=\"accordion__trigger\" data-current=\"false\" id=\"acc_921_panel_7_trigger\" type=\"button\">  Burmantofts &amp; Richmond Hill  </button>,\n",
       " <button aria-controls=\"acc_921_panel_8\" aria-expanded=\"false\" class=\"accordion__trigger\" data-current=\"false\" id=\"acc_921_panel_8_trigger\" type=\"button\">  Calverley &amp; Farsley </button>,\n",
       " <button aria-controls=\"acc_921_panel_9\" aria-expanded=\"false\" class=\"accordion__trigger\" data-current=\"false\" id=\"acc_921_panel_9_trigger\" type=\"button\">  Chapel Allerton   </button>,\n",
       " <button aria-controls=\"acc_921_panel_10\" aria-expanded=\"false\" class=\"accordion__trigger\" data-current=\"false\" id=\"acc_921_panel_10_trigger\" type=\"button\">  Cross Gates &amp; Whinmoor </button>,\n",
       " <button aria-controls=\"acc_921_panel_11\" aria-expanded=\"false\" class=\"accordion__trigger\" data-current=\"false\" id=\"acc_921_panel_11_trigger\" type=\"button\">  Farnley &amp; Wortley   </button>,\n",
       " <button aria-controls=\"acc_921_panel_12\" aria-expanded=\"false\" class=\"accordion__trigger\" data-current=\"false\" id=\"acc_921_panel_12_trigger\" type=\"button\">  Garforth &amp; Swillington </button>,\n",
       " <button aria-controls=\"acc_921_panel_13\" aria-expanded=\"false\" class=\"accordion__trigger\" data-current=\"false\" id=\"acc_921_panel_13_trigger\" type=\"button\">  Gipton &amp; Harehills  </button>,\n",
       " <button aria-controls=\"acc_921_panel_14\" aria-expanded=\"false\" class=\"accordion__trigger\" data-current=\"false\" id=\"acc_921_panel_14_trigger\" type=\"button\">  Guiseley &amp; Rawdon   </button>,\n",
       " <button aria-controls=\"acc_921_panel_15\" aria-expanded=\"false\" class=\"accordion__trigger\" data-current=\"false\" id=\"acc_921_panel_15_trigger\" type=\"button\">  Harewood </button>,\n",
       " <button aria-controls=\"acc_921_panel_16\" aria-expanded=\"false\" class=\"accordion__trigger\" data-current=\"false\" id=\"acc_921_panel_16_trigger\" type=\"button\">  Headingley &amp; Hyde Park </button>,\n",
       " <button aria-controls=\"acc_921_panel_17\" aria-expanded=\"false\" class=\"accordion__trigger\" data-current=\"false\" id=\"acc_921_panel_17_trigger\" type=\"button\">  Horsforth   </button>,\n",
       " <button aria-controls=\"acc_921_panel_18\" aria-expanded=\"false\" class=\"accordion__trigger\" data-current=\"false\" id=\"acc_921_panel_18_trigger\" type=\"button\">  Hunslet &amp; Riverside </button>,\n",
       " <button aria-controls=\"acc_921_panel_19\" aria-expanded=\"false\" class=\"accordion__trigger\" data-current=\"false\" id=\"acc_921_panel_19_trigger\" type=\"button\">  Killingbeck &amp; Seacroft  </button>,\n",
       " <button aria-controls=\"acc_921_panel_20\" aria-expanded=\"false\" class=\"accordion__trigger\" data-current=\"false\" id=\"acc_921_panel_20_trigger\" type=\"button\">  Kippax &amp; Methley </button>,\n",
       " <button aria-controls=\"acc_921_panel_21\" aria-expanded=\"false\" class=\"accordion__trigger\" data-current=\"false\" id=\"acc_921_panel_21_trigger\" type=\"button\">  Kirkstall</button>,\n",
       " <button aria-controls=\"acc_921_panel_22\" aria-expanded=\"false\" class=\"accordion__trigger\" data-current=\"false\" id=\"acc_921_panel_22_trigger\" type=\"button\">  Little London &amp; Woodhouse   </button>,\n",
       " <button aria-controls=\"acc_921_panel_23\" aria-expanded=\"false\" class=\"accordion__trigger\" data-current=\"false\" id=\"acc_921_panel_23_trigger\" type=\"button\">  Middleton Park </button>,\n",
       " <button aria-controls=\"acc_921_panel_24\" aria-expanded=\"false\" class=\"accordion__trigger\" data-current=\"false\" id=\"acc_921_panel_24_trigger\" type=\"button\">  Moortown </button>,\n",
       " <button aria-controls=\"acc_921_panel_25\" aria-expanded=\"false\" class=\"accordion__trigger\" data-current=\"false\" id=\"acc_921_panel_25_trigger\" type=\"button\">  Morley North   </button>,\n",
       " <button aria-controls=\"acc_921_panel_26\" aria-expanded=\"false\" class=\"accordion__trigger\" data-current=\"false\" id=\"acc_921_panel_26_trigger\" type=\"button\">  Morley South   </button>,\n",
       " <button aria-controls=\"acc_921_panel_27\" aria-expanded=\"false\" class=\"accordion__trigger\" data-current=\"false\" id=\"acc_921_panel_27_trigger\" type=\"button\">  Otley &amp; Yeadon   </button>,\n",
       " <button aria-controls=\"acc_921_panel_28\" aria-expanded=\"false\" class=\"accordion__trigger\" data-current=\"false\" id=\"acc_921_panel_28_trigger\" type=\"button\">  Pudsey   </button>,\n",
       " <button aria-controls=\"acc_921_panel_29\" aria-expanded=\"false\" class=\"accordion__trigger\" data-current=\"false\" id=\"acc_921_panel_29_trigger\" type=\"button\">  Rothwell </button>,\n",
       " <button aria-controls=\"acc_921_panel_30\" aria-expanded=\"false\" class=\"accordion__trigger\" data-current=\"false\" id=\"acc_921_panel_30_trigger\" type=\"button\">Roundhay</button>,\n",
       " <button aria-controls=\"acc_921_panel_31\" aria-expanded=\"false\" class=\"accordion__trigger\" data-current=\"false\" id=\"acc_921_panel_31_trigger\" type=\"button\">  Temple Newsam  </button>,\n",
       " <button aria-controls=\"acc_921_panel_32\" aria-expanded=\"false\" class=\"accordion__trigger\" data-current=\"false\" id=\"acc_921_panel_32_trigger\" type=\"button\"> Weetwood </button>,\n",
       " <button aria-controls=\"acc_921_panel_33\" aria-expanded=\"false\" class=\"accordion__trigger\" data-current=\"false\" id=\"acc_921_panel_33_trigger\" type=\"button\">  Wetherby </button>]"
      ]
     },
     "execution_count": 16,
     "metadata": {},
     "output_type": "execute_result"
    }
   ],
   "source": [
    "accordion_layer.find_all('button', id=re.compile(\"acc_921_panel\"))"
   ]
  },
  {
   "cell_type": "code",
   "execution_count": 7,
   "metadata": {},
   "outputs": [],
   "source": [
    "# example extracting election results from a page\n",
    "    \n",
    "df_y = []\n",
    "\n",
    "for link in final_list_links:\n",
    "    \n",
    "    # open webpage and get beautiful soup via selenium\n",
    "    \n",
    "    wd.get(link)\n",
    "\n",
    "    html_page = wd.page_source\n",
    "    \n",
    "    # get page into bs\n",
    "    soup = BeautifulSoup(html_page, 'lxml')\n",
    "\n",
    "    # extract data table\n",
    "    \n",
    "    df = pd.read_html(html_page,header=0)[1]\n",
    "    \n",
    "    df['Share'] = round(((df['Votes'] / df['Votes'].sum())*100),1)\n",
    "    \n",
    "    # extract top row data on ward, turnout and electorate size\n",
    "    top_row = soup.find(id=\"WebPartctl00_ctl46_g_5037fcd1_1720_4395_8f61_756022543ee2\")\n",
    "    \n",
    "    top_row = top_row.text.strip()\n",
    "    top_row = top_row[46:125]\n",
    "    top_row = top_row.split(\" \")\n",
    "    \n",
    "    # get turnout\n",
    "    for i in top_row:\n",
    "        if i == \"%\":\n",
    "            break\n",
    "        else:\n",
    "            z = ''\n",
    "            z += i\n",
    "        \n",
    "        df[\"Turnout\"] = z\n",
    "        j = \"\"\n",
    "        # get total ward\n",
    "        \n",
    "    for i in top_row:\n",
    "        if i == \"Electorate\":\n",
    "            break\n",
    "        else:\n",
    "            j += \" \"+i\n",
    "            df['Ward'] = j\n",
    "\n",
    "        # get total electorate\n",
    "    for i in top_row:\n",
    "        if i == \"Turnout\":  \n",
    "            break\n",
    "        else:\n",
    "            b = \"\"\n",
    "            b += i\n",
    "    df['Electorate'] = b\n",
    "                \n",
    "    # append dataframe to list of dataframes\n",
    "    df_y.append(df)\n",
    "    \n",
    "df_y = pd.concat(df_y,axis=0, ignore_index=True)"
   ]
  },
  {
   "cell_type": "code",
   "execution_count": 8,
   "metadata": {},
   "outputs": [],
   "source": [
    "df_y.to_csv(\"./Leeds_LE2019_results.csv\")"
   ]
  },
  {
   "cell_type": "code",
   "execution_count": null,
   "metadata": {},
   "outputs": [],
   "source": []
  }
 ],
 "metadata": {
  "anaconda-cloud": {},
  "kernelspec": {
   "display_name": "Python 3",
   "language": "python",
   "name": "python3"
  },
  "language_info": {
   "codemirror_mode": {
    "name": "ipython",
    "version": 3
   },
   "file_extension": ".py",
   "mimetype": "text/x-python",
   "name": "python",
   "nbconvert_exporter": "python",
   "pygments_lexer": "ipython3",
   "version": "3.8.10"
  }
 },
 "nbformat": 4,
 "nbformat_minor": 4
}
