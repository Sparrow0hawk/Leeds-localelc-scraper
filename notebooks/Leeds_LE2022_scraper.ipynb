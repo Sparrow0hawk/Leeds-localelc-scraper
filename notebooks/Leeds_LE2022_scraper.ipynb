{
 "cells": [
  {
   "cell_type": "markdown",
   "metadata": {},
   "source": [
    "# Text scrape Leeds City Council Election results into csv \n",
    "\n",
    "Data will be published on Leeds data mill but if you need it sooner than two weeks you can use the following code!"
   ]
  },
  {
   "cell_type": "code",
   "execution_count": 1,
   "metadata": {},
   "outputs": [],
   "source": [
    "# import library for querying website\n",
    "import pandas as pd\n",
    "from bs4 import BeautifulSoup\n",
    "from selenium import webdriver"
   ]
  },
  {
   "cell_type": "code",
   "execution_count": 7,
   "metadata": {},
   "outputs": [],
   "source": [
    "# get list of links for scrapping\n",
    "\n",
    "main_page = 'https://www.leeds.gov.uk/your-council/elections/leeds-city-council-election-results'"
   ]
  },
  {
   "cell_type": "code",
   "execution_count": 9,
   "metadata": {},
   "outputs": [
    {
     "name": "stderr",
     "output_type": "stream",
     "text": [
      "/var/folders/dh/dnx6pt7d3mb4l_fs2phsjg640000gn/T/ipykernel_40726/1316070037.py:7: DeprecationWarning: executable_path has been deprecated, please pass in a Service object\n",
      "  wd = webdriver.Chrome('../tools/chromedriver', options=options)\n"
     ]
    }
   ],
   "source": [
    "# set up selenium to use chrome in headless state\n",
    "from selenium import webdriver\n",
    "from selenium.webdriver.chrome.options import Options\n",
    "\n",
    "options = Options()\n",
    "options.headless = True\n",
    "wd = webdriver.Chrome('../tools/chromedriver', options=options)\n",
    "\n",
    "wd.get(main_page)\n",
    "\n",
    "html_page = wd.page_source\n"
   ]
  },
  {
   "cell_type": "code",
   "execution_count": 10,
   "metadata": {
    "scrolled": true
   },
   "outputs": [],
   "source": [
    "# opens page from selenium in beautiful soup\n",
    "import re \n",
    "\n",
    "soup = BeautifulSoup(html_page, 'html.parser')\n",
    "\n",
    "# finds specific section of page with links to each ward\n",
    "accordion_layer = soup.find(id=re.compile(r\"acc_[0-9]{4}\"))"
   ]
  },
  {
   "cell_type": "code",
   "execution_count": 11,
   "metadata": {},
   "outputs": [],
   "source": [
    "full_accordion_id_names = [tag['id'] for tag in accordion_layer.findAll(True, {'id':True})]"
   ]
  },
  {
   "cell_type": "code",
   "execution_count": 47,
   "metadata": {},
   "outputs": [
    {
     "data": {
      "text/plain": [
       "'acc_1381_panel_1_trigger'"
      ]
     },
     "execution_count": 47,
     "metadata": {},
     "output_type": "execute_result"
    }
   ],
   "source": [
    "full_accordion_id_names[0]"
   ]
  },
  {
   "cell_type": "code",
   "execution_count": 52,
   "metadata": {},
   "outputs": [
    {
     "data": {
      "text/plain": [
       "['\\tAdel & Wharfedale\\t']"
      ]
     },
     "execution_count": 52,
     "metadata": {},
     "output_type": "execute_result"
    }
   ],
   "source": [
    "accordion_layer.find(id=full_accordion_id_names[0]).contents"
   ]
  },
  {
   "cell_type": "code",
   "execution_count": 28,
   "metadata": {},
   "outputs": [],
   "source": [
    "tbl_list = pd.read_html(accordion_layer.find(id=full_accordion_id_names[1]).prettify())"
   ]
  },
  {
   "cell_type": "code",
   "execution_count": 46,
   "metadata": {},
   "outputs": [
    {
     "data": {
      "text/html": [
       "<div>\n",
       "<style scoped>\n",
       "    .dataframe tbody tr th:only-of-type {\n",
       "        vertical-align: middle;\n",
       "    }\n",
       "\n",
       "    .dataframe tbody tr th {\n",
       "        vertical-align: top;\n",
       "    }\n",
       "\n",
       "    .dataframe thead th {\n",
       "        text-align: right;\n",
       "    }\n",
       "</style>\n",
       "<table border=\"1\" class=\"dataframe\">\n",
       "  <thead>\n",
       "    <tr style=\"text-align: right;\">\n",
       "      <th></th>\n",
       "      <th>Candidate</th>\n",
       "      <th>Description</th>\n",
       "      <th>Votes</th>\n",
       "      <th>Electorate</th>\n",
       "      <th>Turnout</th>\n",
       "      <th>Spoilt ballots</th>\n",
       "    </tr>\n",
       "  </thead>\n",
       "  <tbody>\n",
       "    <tr>\n",
       "      <th>0</th>\n",
       "      <td>ANDERSON Barry John</td>\n",
       "      <td>The Conservative Party Candidate</td>\n",
       "      <td>4385</td>\n",
       "      <td>16472</td>\n",
       "      <td>47.3%</td>\n",
       "      <td>28</td>\n",
       "    </tr>\n",
       "    <tr>\n",
       "      <th>1</th>\n",
       "      <td>BRIDGES Chris</td>\n",
       "      <td>Labour Party</td>\n",
       "      <td>2104</td>\n",
       "      <td>16472</td>\n",
       "      <td>47.3%</td>\n",
       "      <td>28</td>\n",
       "    </tr>\n",
       "    <tr>\n",
       "      <th>2</th>\n",
       "      <td>LOVE Fiona Sarah Heather</td>\n",
       "      <td>Green Party</td>\n",
       "      <td>486</td>\n",
       "      <td>16472</td>\n",
       "      <td>47.3%</td>\n",
       "      <td>28</td>\n",
       "    </tr>\n",
       "    <tr>\n",
       "      <th>3</th>\n",
       "      <td>ROBINSON Corey</td>\n",
       "      <td>Yorkshire Party</td>\n",
       "      <td>127</td>\n",
       "      <td>16472</td>\n",
       "      <td>47.3%</td>\n",
       "      <td>28</td>\n",
       "    </tr>\n",
       "    <tr>\n",
       "      <th>4</th>\n",
       "      <td>TWITCHETT Mark John</td>\n",
       "      <td>Liberal Democrats</td>\n",
       "      <td>663</td>\n",
       "      <td>16472</td>\n",
       "      <td>47.3%</td>\n",
       "      <td>28</td>\n",
       "    </tr>\n",
       "  </tbody>\n",
       "</table>\n",
       "</div>"
      ],
      "text/plain": [
       "                  Candidate                       Description  Votes  \\\n",
       "0       ANDERSON Barry John  The Conservative Party Candidate   4385   \n",
       "1             BRIDGES Chris                      Labour Party   2104   \n",
       "2  LOVE Fiona Sarah Heather                       Green Party    486   \n",
       "3            ROBINSON Corey                   Yorkshire Party    127   \n",
       "4       TWITCHETT Mark John                 Liberal Democrats    663   \n",
       "\n",
       "  Electorate Turnout Spoilt ballots  \n",
       "0      16472   47.3%             28  \n",
       "1      16472   47.3%             28  \n",
       "2      16472   47.3%             28  \n",
       "3      16472   47.3%             28  \n",
       "4      16472   47.3%             28  "
      ]
     },
     "execution_count": 46,
     "metadata": {},
     "output_type": "execute_result"
    }
   ],
   "source": [
    "meta_tbl = tbl_list[1].T\n",
    "\n",
    "meta_tbl.columns = meta_tbl.loc[0,:]\n",
    "\n",
    "meta_tbl.columns = meta_tbl.columns.str.replace(\":\",\"\")\n",
    "\n",
    "meta_tbl.drop(0, axis=0, inplace=True)\n",
    "\n",
    "for col in meta_tbl.columns:\n",
    "    tbl_list[0][col] = meta_tbl[col].values[0]\n",
    "\n",
    "tbl_list[0]"
   ]
  },
  {
   "cell_type": "code",
   "execution_count": 58,
   "metadata": {},
   "outputs": [
    {
     "data": {
      "text/html": [
       "<div>\n",
       "<style scoped>\n",
       "    .dataframe tbody tr th:only-of-type {\n",
       "        vertical-align: middle;\n",
       "    }\n",
       "\n",
       "    .dataframe tbody tr th {\n",
       "        vertical-align: top;\n",
       "    }\n",
       "\n",
       "    .dataframe thead th {\n",
       "        text-align: right;\n",
       "    }\n",
       "</style>\n",
       "<table border=\"1\" class=\"dataframe\">\n",
       "  <thead>\n",
       "    <tr style=\"text-align: right;\">\n",
       "      <th></th>\n",
       "      <th>Candidate</th>\n",
       "      <th>Description</th>\n",
       "      <th>Votes</th>\n",
       "      <th>Electorate</th>\n",
       "      <th>Turnout</th>\n",
       "      <th>Spoilt ballots</th>\n",
       "      <th>Ward</th>\n",
       "    </tr>\n",
       "  </thead>\n",
       "  <tbody>\n",
       "    <tr>\n",
       "      <th>0</th>\n",
       "      <td>ANDERSON Barry John</td>\n",
       "      <td>The Conservative Party Candidate</td>\n",
       "      <td>4385</td>\n",
       "      <td>16472</td>\n",
       "      <td>47.3%</td>\n",
       "      <td>28</td>\n",
       "      <td>Adel &amp; Wharfedale</td>\n",
       "    </tr>\n",
       "    <tr>\n",
       "      <th>1</th>\n",
       "      <td>BRIDGES Chris</td>\n",
       "      <td>Labour Party</td>\n",
       "      <td>2104</td>\n",
       "      <td>16472</td>\n",
       "      <td>47.3%</td>\n",
       "      <td>28</td>\n",
       "      <td>Adel &amp; Wharfedale</td>\n",
       "    </tr>\n",
       "    <tr>\n",
       "      <th>2</th>\n",
       "      <td>LOVE Fiona Sarah Heather</td>\n",
       "      <td>Green Party</td>\n",
       "      <td>486</td>\n",
       "      <td>16472</td>\n",
       "      <td>47.3%</td>\n",
       "      <td>28</td>\n",
       "      <td>Adel &amp; Wharfedale</td>\n",
       "    </tr>\n",
       "    <tr>\n",
       "      <th>3</th>\n",
       "      <td>ROBINSON Corey</td>\n",
       "      <td>Yorkshire Party</td>\n",
       "      <td>127</td>\n",
       "      <td>16472</td>\n",
       "      <td>47.3%</td>\n",
       "      <td>28</td>\n",
       "      <td>Adel &amp; Wharfedale</td>\n",
       "    </tr>\n",
       "    <tr>\n",
       "      <th>4</th>\n",
       "      <td>TWITCHETT Mark John</td>\n",
       "      <td>Liberal Democrats</td>\n",
       "      <td>663</td>\n",
       "      <td>16472</td>\n",
       "      <td>47.3%</td>\n",
       "      <td>28</td>\n",
       "      <td>Adel &amp; Wharfedale</td>\n",
       "    </tr>\n",
       "    <tr>\n",
       "      <th>...</th>\n",
       "      <td>...</td>\n",
       "      <td>...</td>\n",
       "      <td>...</td>\n",
       "      <td>...</td>\n",
       "      <td>...</td>\n",
       "      <td>...</td>\n",
       "      <td>...</td>\n",
       "    </tr>\n",
       "    <tr>\n",
       "      <th>4</th>\n",
       "      <td>WILSON Izaak William</td>\n",
       "      <td>Labour and Co-operative Party</td>\n",
       "      <td>3331</td>\n",
       "      <td>15982</td>\n",
       "      <td>42.6%</td>\n",
       "      <td>19</td>\n",
       "      <td>Weetwood</td>\n",
       "    </tr>\n",
       "    <tr>\n",
       "      <th>0</th>\n",
       "      <td>DIXON-MURROW Luke</td>\n",
       "      <td>Labour Party</td>\n",
       "      <td>878</td>\n",
       "      <td>16640</td>\n",
       "      <td>44.9%</td>\n",
       "      <td>29</td>\n",
       "      <td>Wetherby</td>\n",
       "    </tr>\n",
       "    <tr>\n",
       "      <th>1</th>\n",
       "      <td>HARRINGTON Norma Agnes</td>\n",
       "      <td>The Conservative Party Candidate</td>\n",
       "      <td>3514</td>\n",
       "      <td>16640</td>\n",
       "      <td>44.9%</td>\n",
       "      <td>29</td>\n",
       "      <td>Wetherby</td>\n",
       "    </tr>\n",
       "    <tr>\n",
       "      <th>2</th>\n",
       "      <td>MCINTEE Lesley Ann</td>\n",
       "      <td>Liberal Democrats</td>\n",
       "      <td>484</td>\n",
       "      <td>16640</td>\n",
       "      <td>44.9%</td>\n",
       "      <td>29</td>\n",
       "      <td>Wetherby</td>\n",
       "    </tr>\n",
       "    <tr>\n",
       "      <th>3</th>\n",
       "      <td>STABLES Penny</td>\n",
       "      <td>Green Party</td>\n",
       "      <td>2568</td>\n",
       "      <td>16640</td>\n",
       "      <td>44.9%</td>\n",
       "      <td>29</td>\n",
       "      <td>Wetherby</td>\n",
       "    </tr>\n",
       "  </tbody>\n",
       "</table>\n",
       "<p>167 rows × 7 columns</p>\n",
       "</div>"
      ],
      "text/plain": [
       "                   Candidate                       Description  Votes  \\\n",
       "0        ANDERSON Barry John  The Conservative Party Candidate   4385   \n",
       "1              BRIDGES Chris                      Labour Party   2104   \n",
       "2   LOVE Fiona Sarah Heather                       Green Party    486   \n",
       "3             ROBINSON Corey                   Yorkshire Party    127   \n",
       "4        TWITCHETT Mark John                 Liberal Democrats    663   \n",
       "..                       ...                               ...    ...   \n",
       "4       WILSON Izaak William     Labour and Co-operative Party   3331   \n",
       "0          DIXON-MURROW Luke                      Labour Party    878   \n",
       "1     HARRINGTON Norma Agnes  The Conservative Party Candidate   3514   \n",
       "2         MCINTEE Lesley Ann                 Liberal Democrats    484   \n",
       "3              STABLES Penny                       Green Party   2568   \n",
       "\n",
       "   Electorate Turnout Spoilt ballots               Ward  \n",
       "0       16472   47.3%             28  Adel & Wharfedale  \n",
       "1       16472   47.3%             28  Adel & Wharfedale  \n",
       "2       16472   47.3%             28  Adel & Wharfedale  \n",
       "3       16472   47.3%             28  Adel & Wharfedale  \n",
       "4       16472   47.3%             28  Adel & Wharfedale  \n",
       "..        ...     ...            ...                ...  \n",
       "4       15982   42.6%             19           Weetwood  \n",
       "0       16640   44.9%             29           Wetherby  \n",
       "1       16640   44.9%             29           Wetherby  \n",
       "2       16640   44.9%             29           Wetherby  \n",
       "3       16640   44.9%             29           Wetherby  \n",
       "\n",
       "[167 rows x 7 columns]"
      ]
     },
     "execution_count": 58,
     "metadata": {},
     "output_type": "execute_result"
    }
   ],
   "source": [
    "frame_stack = []\n",
    "\n",
    "for layer in full_accordion_id_names:\n",
    "\n",
    "    if \"trigger\" in layer:\n",
    "        \n",
    "        ward = accordion_layer.find(id=layer).contents[0].strip()\n",
    "\n",
    "    else:\n",
    "        tbl_list = pd.read_html(accordion_layer.find(id=layer).prettify())\n",
    "\n",
    "        meta_tbl = tbl_list[1].T\n",
    "\n",
    "        main_tbl = tbl_list[0]\n",
    "\n",
    "        meta_tbl.columns = meta_tbl.loc[0,:]\n",
    "\n",
    "        meta_tbl.columns = meta_tbl.columns.str.replace(\":\",\"\")\n",
    "\n",
    "        meta_tbl.drop(0, axis=0, inplace=True)\n",
    "\n",
    "        for col in meta_tbl.columns:\n",
    "            main_tbl[col] = meta_tbl[col].values[0]\n",
    "\n",
    "        main_tbl['Ward'] = ward\n",
    "\n",
    "        frame_stack.append(main_tbl)\n",
    "\n",
    "results_frame = pd.concat(frame_stack)\n",
    "        \n"
   ]
  },
  {
   "cell_type": "code",
   "execution_count": null,
   "metadata": {},
   "outputs": [],
   "source": []
  }
 ],
 "metadata": {
  "anaconda-cloud": {},
  "kernelspec": {
   "display_name": "Python 3",
   "language": "python",
   "name": "python3"
  },
  "language_info": {
   "codemirror_mode": {
    "name": "ipython",
    "version": 3
   },
   "file_extension": ".py",
   "mimetype": "text/x-python",
   "name": "python",
   "nbconvert_exporter": "python",
   "pygments_lexer": "ipython3",
   "version": "3.8.13"
  }
 },
 "nbformat": 4,
 "nbformat_minor": 4
}
