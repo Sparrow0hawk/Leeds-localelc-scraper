{
 "cells": [
  {
   "cell_type": "markdown",
   "metadata": {},
   "source": [
    "# Text scrape Leeds City Council Election results into csv \n",
    "\n",
    "Data will be published on Leeds data mill but if you need it sooner than two weeks you can use the following code!"
   ]
  },
  {
   "cell_type": "code",
   "execution_count": 2,
   "metadata": {},
   "outputs": [],
   "source": [
    "# import library for querying website\n",
    "import pandas as pd\n",
    "from bs4 import BeautifulSoup\n",
    "from selenium import webdriver"
   ]
  },
  {
   "cell_type": "code",
   "execution_count": 3,
   "metadata": {},
   "outputs": [],
   "source": [
    "# get list of links for scrapping\n",
    "\n",
    "main_page = 'https://www.leeds.gov.uk/your-council/elections/leeds-city-council-election-results'"
   ]
  },
  {
   "cell_type": "code",
   "execution_count": 4,
   "metadata": {},
   "outputs": [
    {
     "name": "stderr",
     "output_type": "stream",
     "text": [
      "/var/folders/dh/dnx6pt7d3mb4l_fs2phsjg640000gn/T/ipykernel_41251/1316070037.py:7: DeprecationWarning: executable_path has been deprecated, please pass in a Service object\n",
      "  wd = webdriver.Chrome('../tools/chromedriver', options=options)\n"
     ]
    }
   ],
   "source": [
    "# set up selenium to use chrome in headless state\n",
    "from selenium import webdriver\n",
    "from selenium.webdriver.chrome.options import Options\n",
    "\n",
    "options = Options()\n",
    "options.headless = True\n",
    "wd = webdriver.Chrome('../tools/chromedriver', options=options)\n",
    "\n",
    "wd.get(main_page)\n",
    "\n",
    "html_page = wd.page_source\n"
   ]
  },
  {
   "cell_type": "code",
   "execution_count": 5,
   "metadata": {
    "scrolled": true
   },
   "outputs": [],
   "source": [
    "# opens page from selenium in beautiful soup\n",
    "import re \n",
    "\n",
    "soup = BeautifulSoup(html_page, 'html.parser')\n",
    "\n",
    "# finds specific section of page with links to each ward\n",
    "accordion_layer = soup.find(id=re.compile(r\"acc_[0-9]{4}\"))"
   ]
  },
  {
   "cell_type": "code",
   "execution_count": 6,
   "metadata": {},
   "outputs": [],
   "source": [
    "full_accordion_id_names = [tag['id'] for tag in accordion_layer.findAll(True, {'id':True})]"
   ]
  },
  {
   "cell_type": "code",
   "execution_count": 24,
   "metadata": {},
   "outputs": [],
   "source": [
    "frame_stack = []\n",
    "\n",
    "for layer in full_accordion_id_names:\n",
    "\n",
    "    if \"trigger\" in layer:\n",
    "        \n",
    "        ward = accordion_layer.find(id=layer).contents[0].strip()\n",
    "\n",
    "    else:\n",
    "        tbl_list = pd.read_html(accordion_layer.find(id=layer).prettify())\n",
    "\n",
    "        meta_tbl = tbl_list[1].T\n",
    "\n",
    "        main_tbl = tbl_list[0]\n",
    "\n",
    "        meta_tbl.columns = meta_tbl.loc[0,:]\n",
    "\n",
    "        meta_tbl.columns = meta_tbl.columns.str.replace(\":\",\"\")\n",
    "\n",
    "        meta_tbl.drop(0, axis=0, inplace=True)\n",
    "\n",
    "        for col in meta_tbl.columns:\n",
    "            main_tbl[col] = meta_tbl[col].values[0]\n",
    "\n",
    "        main_tbl['Ward'] = ward\n",
    "\n",
    "        # create vote share column\n",
    "        main_tbl['vote_share'] = round(main_tbl.Votes / main_tbl.Votes.sum() * 100, 1)\n",
    "\n",
    "        frame_stack.append(main_tbl)\n",
    "\n",
    "results_frame = pd.concat(frame_stack)\n",
    "\n",
    "# convert turnout column to float\n",
    "results_frame.Turnout = results_frame.Turnout.str.replace(\"%\",'').astype(float)\n",
    "        \n"
   ]
  },
  {
   "cell_type": "code",
   "execution_count": 28,
   "metadata": {},
   "outputs": [],
   "source": [
    "results_frame.to_csv(\"../data/Leeds_LE2022_results.csv\", index=False)"
   ]
  },
  {
   "cell_type": "markdown",
   "metadata": {},
   "source": []
  }
 ],
 "metadata": {
  "anaconda-cloud": {},
  "kernelspec": {
   "display_name": "Python 3",
   "language": "python",
   "name": "python3"
  },
  "language_info": {
   "codemirror_mode": {
    "name": "ipython",
    "version": 3
   },
   "file_extension": ".py",
   "mimetype": "text/x-python",
   "name": "python",
   "nbconvert_exporter": "python",
   "pygments_lexer": "ipython3",
   "version": "3.8.13"
  }
 },
 "nbformat": 4,
 "nbformat_minor": 4
}
